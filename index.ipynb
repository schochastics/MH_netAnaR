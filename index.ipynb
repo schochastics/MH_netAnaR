{
  "cells": [
    {
      "cell_type": "markdown",
      "metadata": {},
      "source": [
        "---\n",
        "title: \"Basic Network Analysis in R\"\n",
        "author: \n",
        "  - name: David Schoch\n",
        "    orcid: 0000-0003-1689-0557\n",
        "    email: david.schoch@gesis.org\n",
        "    url: https://mr.schochastics.net\n",
        "    affiliations:\n",
        "      - name: GESIS - Leibniz Institute for the Social Sciences\n",
        "toc: true\n",
        "format:\n",
        "  html: default\n",
        "  ipynb: default\n",
        "execute:\n",
        "  echo: true\n",
        "  warning: false\n",
        "license: CC BY-NC\n",
        "jupyter:\n",
        "  kernelspec:\n",
        "    name: \"ir\"\n",
        "    language: \"R\"\n",
        "    display_name: \"R 4.4.1\"\n",
        "---\n",
        "\n",
        "# Learning Objectives\n",
        "\n",
        "By the end of this tutorial, you will \n",
        "\n",
        "1. have a practical understand of network analysis\n",
        "2. be able to work confidently with the R package `igraph`\n",
        "3, be able to analyze a diverse set of different types of networks\n",
        "\n",
        "# Target audience\n",
        "\n",
        "This tutorial is aimed at beginners in network analysis with knowledge in R.\n",
        "\n",
        "# Setting up the computational environment\n",
        "\n",
        "To run all the code in this tutorial, you need to install and load three packages."
      ]
    },
    {
      "cell_type": "code",
      "metadata": {},
      "source": [
        "install.packages(c(\"igraph\", \"netrankr\"))\n",
        "devtools::install_github(\"schochastics/networkdata\")"
      ],
      "execution_count": null,
      "outputs": []
    },
    {
      "cell_type": "markdown",
      "metadata": {},
      "source": [
        "`igraph` is used for the majority of analytic tasks and for its data structures. `netrankr` is a package\n",
        "for network centrality. "
      ]
    },
    {
      "cell_type": "code",
      "metadata": {},
      "source": [
        "library(igraph)\n",
        "library(netrankr)\n",
        "library(networkdata)"
      ],
      "execution_count": null,
      "outputs": []
    },
    {
      "cell_type": "code",
      "metadata": {},
      "source": [
        "library(ggraph)\n",
        "library(graphlayouts)"
      ],
      "execution_count": null,
      "outputs": []
    },
    {
      "cell_type": "markdown",
      "metadata": {},
      "source": [
        "Make sure you have at least the version given below. Some of the examples may not be backward compatible."
      ]
    },
    {
      "cell_type": "code",
      "metadata": {},
      "source": [
        "packageVersion(\"igraph\")\n",
        "packageVersion(\"netrankr\")\n",
        "packageVersion(\"networkdata\")"
      ],
      "execution_count": null,
      "outputs": []
    },
    {
      "cell_type": "markdown",
      "metadata": {},
      "source": [
        "# Social Science Usecase(s)\n",
        "\n",
        "Network analysis provides researchers with a versatile framework for examining relationships and structures within complex social systems. \n",
        "For example, in studying the dynamics of an online support community, one could use network analysis to explore how individuals connect, \n",
        "share resources, and offer support. By analyzing metrics such as degree centrality (identifying key individuals who connect others), \n",
        "clustering coefficients (revealing tightly-knit groups), and betweenness centrality (spotlighting users who bridge subgroups), researchers \n",
        "can understand how information and support flow within the community. This approach can uncover subgroups that form around \n",
        "shared needs, as well as highlight key figures who facilitate support or knowledge sharing. \n",
        "Network analysis also enables researchers to track changes in the community over time, such as the emergence of new\n",
        "leaders or the diffusion of helpful resources, offering a better understanding of social cohesion, influence, and resilience \n",
        "within the community.\n",
        "\n",
        "# Introduction\n",
        "\n",
        "The main focus of this tutorial is empirical analysis of networks and skips a lot of additional functionality of igraph\n",
        "For the most part of this tutorial, we assume that the network data is already present in R.\n",
        "Reading in data may not pose much of an issue if you are already familiar with R, but can be quite a\n",
        "challenge if you are new to R. The last section of this tutorial is devoted to this topic in great detail. \n",
        "\n",
        "The tutorial does introduce key terms for network analysis, but much of the theory behind them is not explained in great detail. This tutorial is meant to be \"hands-on\", giving practical help for empirical \n",
        "work. If you are interested in the technical/theoretical details behind certain methods, please consult \n",
        "relevant literature (a list is given at the end of the tutorial).\n",
        "\n",
        "\n",
        "# Which package to choose?\n",
        "\n",
        "Well, the last section spoiled already what we are going to use in this tutorial, but for the \n",
        "sake of completeness, I will discuss some other packages here and motivate why I would recommend \n",
        "`igraph` as the goto package for standard network analytic tasks.\n",
        "\n",
        "Besides methods, `igraph` also provides data structures which facilitate to store and process network data. Two other packages \n",
        "that allow for this are `graph` and `network`. The former is, however, not available on CRAN anymore, only via\n",
        "Bioconductor. The latter provides the foundation for much of the statistical modelling aspects for networks such as\n",
        "Exponential Random Graph Models (ERGMs) and Stochastic Actor Oriented Models (SAOMs).\n",
        "\n",
        "The figure below shows how many packages on CRAN rely on those three packages (i.e. they are mentioned in `Depends`, `Imports`, or `Suggests`)."
      ]
    },
    {
      "cell_type": "code",
      "metadata": {},
      "source": [
        "sg <- readRDS(\"crannet.RDS\")\n",
        "ggraph(sg, \"stress\") +\n",
        "    geom_edge_link0(\n",
        "        edge_color = \"grey66\", edge_width = 0.3,\n",
        "        arrow = arrow(\n",
        "            angle = 15, length = unit(0.15, \"inches\"),\n",
        "            ends = \"last\", type = \"closed\"\n",
        "        )\n",
        "    ) +\n",
        "    geom_node_point(shape = 21, aes(fill = col, size = seed)) +\n",
        "    scale_fill_brewer(type = \"qual\", name = \"\") +\n",
        "    scale_size_manual(values = c(2, 5), guide = \"none\") +\n",
        "    guides(fill = guide_legend(override.aes = list(size = 5))) +\n",
        "    theme_void() +\n",
        "    theme(legend.position = \"bottom\") +\n",
        "    coord_equal(clip = \"off\")"
      ],
      "execution_count": null,
      "outputs": []
    },
    {
      "cell_type": "markdown",
      "metadata": {},
      "source": [
        "The figure was produced with the help of the `cranet` package ([link](https://github.com/mbojan/cranet)).\n",
        "`igraph` seems to be clearly favored by the R community. So if you install a package for, say, signed network analysis,\n",
        "changes are high that it depends on the graph structures provided by `igraph`. Besides the data structures,\n",
        "the package offers a large variety of network analytic methods which are all implemented in C. The methods are well optimized and\n",
        "also work quite well for large graphs. \n",
        "\n",
        "The `network` package historically shares some commonalities with `igraphs` data structures. The package itself, though is really only providing the data structure and no analytic methods. The `sna` package ([link](https://cran.r-project.org/package=sna)) implements network analytic tools using the data structures provided by `network`.\n",
        "Overall, the syntax and provided methods are very much comparable between `igraph` and `sna` and they are almost interchangeable in this regard. The advantage of igraph is its speed. I have run several benchmark tasks and `igraph` usually comes out on top. That being said, there is no real case to be made against `network`/`sna`. If you are into statistical modelling of networks, then that should actually be the preferred choice since the `ergm` package is build on top of `network`. In this case you probably also\n",
        "want to look at the meta package `statnet` ([link](http://statnet.org/)) which includes `network`, `sna`, and `ergm` (among other packages).\n",
        "\n",
        "The package `intergraph` ([link](https://cran.r-project.org/package=intergraph)) can be used if you need to switch representations between `igraph` and `network`.\n",
        "\n",
        "\n",
        "---\n",
        "\n",
        "# Basic network notations\n",
        "\n",
        "Networks are commonly represented with an **adjacency matrix** or via an **edgelist**. If you are interested \n",
        "in a \"tidy way\" checkout my [tidygraph](../tidynetAnaR/) tutorial. Below, we represent friendship relations between Bob, Ann, and Steve as a matrix and an edgelist."
      ]
    },
    {
      "cell_type": "code",
      "metadata": {},
      "source": [
        "# adjacency matrix\n",
        "A <- matrix(c(0,1,1,1,0,1,1,1,0),nrow = 3,ncol = 3,byrow = TRUE)\n",
        "rownames(A) <- colnames(A) <- c(\"Bob\",\"Ann\",\"Steve\")\n",
        "A\n",
        "#edge list\n",
        "el <- matrix(c(\"Bob\",\"Ann\",\"Bob\",\"Steve\",\"Ann\",\"Steve\"),\n",
        "             nrow = 3,ncol = 2, byrow = TRUE)\n",
        "el"
      ],
      "execution_count": null,
      "outputs": []
    },
    {
      "cell_type": "markdown",
      "metadata": {},
      "source": [
        "The adjacency matrix $A$ is symmetric, meaning that the relations are undirected, i.e. Bob is friends with\n",
        "Ann and Ann is friends with Bob. In general, $A[i,j]=1$, if there is a relation between $i$ and $j$.\n",
        "If $A[i,j]=1$ does not imply $A[j,i]=1$ then $A$ defines a directed network.\n",
        "\n",
        "Once we have defined an edgelist or an adjacency matrix, we can turn them into `igraph` objects\n",
        "as follows."
      ]
    },
    {
      "cell_type": "code",
      "metadata": {},
      "source": [
        "g1 <- graph_from_adjacency_matrix(A, mode = \"undirected\", diag = FALSE)\n",
        "g2 <- graph_from_edgelist(el,directed = FALSE)\n",
        "#g1 and g2 are the same graph so only printing g1\n",
        "g1"
      ],
      "execution_count": null,
      "outputs": []
    },
    {
      "cell_type": "markdown",
      "metadata": {},
      "source": [
        "The printed summary shows some general descriptives of the graph.\n",
        "The string \"UN--\" in the first line indicates that the network is *U*ndirected (*D* for directed graphs) and has a *N*ame attribute (we named the nodes Bob, Ann, and Steve). The third and forth character are *W*, if there is a edge weight attribute, and *B* if the network is bipartite (there exists a node attribute \"type\"). The following number indicate the number of nodes and edges.\n",
        "The second line lists all graph, node and edge variables. Here, we only have a node attribute \"name\". \n",
        "\n",
        "The conversion from edgelist/adjacency matrix into an igraph object is quite straightforward. The only difficulty is setting the parameters correctly (Is the network directed or not?), especially for edgelists where it may not immediately be obvious if the network is directed or not.\n",
        "\n",
        "In the following, we use a larger network to introduce some terminology."
      ]
    },
    {
      "cell_type": "code",
      "metadata": {},
      "source": [
        "data(\"greys\")"
      ],
      "execution_count": null,
      "outputs": []
    },
    {
      "cell_type": "code",
      "metadata": {},
      "source": [
        "ggraph(greys, \"stress\", bbox = 10) +\n",
        "    geom_edge_link0(edge_color = \"grey66\") +\n",
        "    geom_node_point(shape = 21, aes(fill = sex), size = 5, show.legend = FALSE) +\n",
        "    geom_node_text(aes(label = name), repel = TRUE) +\n",
        "    scale_fill_manual(values = c(\"grey66\", \"#E8813A\", \"#4D189D\")) +\n",
        "    theme_void()"
      ],
      "execution_count": null,
      "outputs": []
    },
    {
      "cell_type": "markdown",
      "metadata": {},
      "source": [
        "The \"greys\" network is part of the `networkdata` package and consists of most characters from the \n",
        "show \"Grey's Anatomy\" and who hooked up with whom."
      ]
    },
    {
      "cell_type": "code",
      "metadata": {},
      "source": [
        "greys"
      ],
      "execution_count": null,
      "outputs": []
    },
    {
      "cell_type": "markdown",
      "metadata": {},
      "source": [
        "---\n",
        "\n",
        "# Descriptives and more notations\n",
        "\n",
        "The **density** of a network is defined as the fraction of the potential edges in a network that are actually present."
      ]
    },
    {
      "cell_type": "code",
      "metadata": {},
      "source": [
        "c(\n",
        "    graph.density(graph.empty(10)),\n",
        "    graph.density(greys),\n",
        "    graph.density(graph.full(10))\n",
        ")"
      ],
      "execution_count": null,
      "outputs": []
    },
    {
      "cell_type": "markdown",
      "metadata": {},
      "source": [
        "The density of an empty network is $0$ and for the full network it is $1$. The density of empirical network \n",
        "lies somewhere in between but as the number of nodes increases, we'd expect the density to decrease and the network \n",
        "becomes quite sparse.\n",
        "\n",
        "A **shortest path** is a path that connects two nodes in a network with a minimal number of edges. The length of a shortest path is called the **distance** between two nodes."
      ]
    },
    {
      "cell_type": "code",
      "metadata": {},
      "source": [
        "shortest_paths(greys, from = \"Alex Karev\", to = \"Owen Hunt\", output = \"vpath\")"
      ],
      "execution_count": null,
      "outputs": []
    },
    {
      "cell_type": "code",
      "metadata": {},
      "source": [
        "E(greys)$epath <- FALSE\n",
        "E(greys)$epath[as.integer(shortest_paths(greys, from = \"Alex Karev\", to = \"Owen Hunt\", output = \"epath\")$epath[[1]])] <- TRUE\n",
        "\n",
        "ggraph(greys, \"stress\", bbox = 10) +\n",
        "    geom_edge_link0(aes(color = epath, width = epath), show.legend = FALSE) +\n",
        "    geom_node_point(shape = 21, aes(fill = sex), size = 5, show.legend = FALSE) +\n",
        "    geom_node_text(aes(label = name), repel = TRUE) +\n",
        "    scale_fill_manual(values = c(\"grey66\", \"#E8813A\", \"#4D189D\")) +\n",
        "    scale_edge_color_manual(values = c(\"grey66\", \"firebrick3\")) +\n",
        "    scale_edge_width_manual(values = c(0.5, 1.5)) +\n",
        "    theme_void()"
      ],
      "execution_count": null,
      "outputs": []
    },
    {
      "cell_type": "code",
      "metadata": {},
      "source": [
        "distances(greys)[1:10, 1:10]"
      ],
      "execution_count": null,
      "outputs": []
    },
    {
      "cell_type": "markdown",
      "metadata": {},
      "source": [
        "The Grey's Anatomy network is **disconnected** and consists of $4$ **connected components**. There are no \n",
        "shortest paths between components, which means that the distance is not measurable and set to infinity.\n",
        "\n",
        "The length of the longest shortest path is called the **diameter** of the network."
      ]
    },
    {
      "cell_type": "code",
      "metadata": {},
      "source": [
        "diameter(greys)"
      ],
      "execution_count": null,
      "outputs": []
    },
    {
      "cell_type": "code",
      "metadata": {},
      "source": [
        "E(greys)$epath <- FALSE\n",
        "E(greys)$epath[as.integer(shortest_paths(greys, from = \"Finn Dandridge\", to = \"Colin Marlow\", output = \"epath\")$epath[[1]])] <- TRUE\n",
        "\n",
        "ggraph(greys, \"stress\", bbox = 10) +\n",
        "    geom_edge_link0(aes(color = epath, width = epath), show.legend = FALSE) +\n",
        "    geom_node_point(shape = 21, aes(fill = sex), size = 5, show.legend = FALSE) +\n",
        "    geom_node_text(aes(label = name), repel = TRUE) +\n",
        "    scale_fill_manual(values = c(\"grey66\", \"#E8813A\", \"#4D189D\")) +\n",
        "    scale_edge_color_manual(values = c(\"grey66\", \"firebrick3\")) +\n",
        "    scale_edge_width_manual(values = c(0.5, 1.5)) +\n",
        "    theme_void()"
      ],
      "execution_count": null,
      "outputs": []
    },
    {
      "cell_type": "markdown",
      "metadata": {},
      "source": [
        "**Transitivity** measures the probability that the neighbors of a node are also connected. This is also called the **clustering coefficient**.  "
      ]
    },
    {
      "cell_type": "code",
      "metadata": {},
      "source": [
        "transitivity(greys, type = \"global\")\n",
        "transitivity(greys, type = \"local\", isolates = \"zero\")"
      ],
      "execution_count": null,
      "outputs": []
    },
    {
      "cell_type": "markdown",
      "metadata": {},
      "source": [
        "The global transitivity of an undirected network is the ratio of the triangles and the connected triples in the network.\n",
        "Local transitivity of a node is the ratio of the triangles connected to the node and the triples centered on the node itself.\n",
        "In social networks, we generally assume that the transitivity is quite high (\"the friend of my friend is also my friend\"). In our \n",
        "example, we have zero for all values. This is due to the fact that a triangle would require a same sex hook-up which did not occur (*Disclaimer: I never watched the show and gathered the hook ups from various internet resources. So this may well be wrong.*).\n",
        "\n",
        "For directed networks, a measure of importance is **reciprocity**, which is defined as the proportion of mutual edges between nodes. To illustrate the measure, we use a network of grooming relations among a group of rhesus monkeys."
      ]
    },
    {
      "cell_type": "code",
      "metadata": {},
      "source": [
        "data(\"rhesus\")\n",
        "reciprocity(rhesus)"
      ],
      "execution_count": null,
      "outputs": []
    },
    {
      "cell_type": "markdown",
      "metadata": {},
      "source": [
        "About `r round(reciprocity(rhesus)*100)`% of edges are reciprocated in the network. The figure below highlights the reciprocated edges. "
      ]
    },
    {
      "cell_type": "code",
      "metadata": {},
      "source": [
        "E(rhesus)$mutual <- is.mutual(rhesus)\n",
        "# plot\n",
        "ggraph(rhesus, \"stress\") +\n",
        "    geom_edge_parallel(aes(filter = !mutual),\n",
        "        edge_color = \"grey66\", edge_width = 0.5,\n",
        "        arrow = arrow(\n",
        "            angle = 15, length = unit(0.15, \"inches\"),\n",
        "            ends = \"last\", type = \"closed\"\n",
        "        ), n = 2, end_cap = circle(8, \"pt\")\n",
        "    ) +\n",
        "    geom_edge_parallel(aes(filter = mutual),\n",
        "        edge_color = \"black\", edge_width = 0.5,\n",
        "        arrow = arrow(\n",
        "            angle = 15, length = unit(0.15, \"inches\"),\n",
        "            ends = \"last\", type = \"closed\"\n",
        "        ), n = 2, end_cap = circle(8, \"pt\")\n",
        "    ) +\n",
        "    geom_node_point(shape = 21, size = 8, aes(fill = gender)) +\n",
        "    scale_fill_manual(values = c(\"#E8813A\", \"#4D189D\"), name = \"\") +\n",
        "    theme_void() +\n",
        "    theme(legend.position = \"bottom\")"
      ],
      "execution_count": null,
      "outputs": []
    },
    {
      "cell_type": "markdown",
      "metadata": {},
      "source": [
        "## Use case: triad census\n",
        "\n",
        "\n",
        "In this short use case example, we will discuss the **triad census** of a directed network.\n",
        "In a directed network, there are 16 possible configurations of edges that can occur between three nodes.\n",
        "\n",
        "![](triad_census.jpg)\n",
        "\n",
        "The triad census of a network gives the number of occurrences of each of these triad. Triads are labelled `xyzL` where `x` is the number of reciprocated ties, `y` is the number of unreciprocated ties and `z` is the number of null ties. The `L` term is a letter (U,C,D or T) which allows to differentiate between triads where these numbers are the same. \n",
        "\n",
        "One of the many applications of the triad census is to compare a set of networks.\n",
        "In this example, we are tackling the question of \"how transitive is football?\" and\n",
        "asses structural differences among a set of football leagues. "
      ]
    },
    {
      "cell_type": "code",
      "metadata": {},
      "source": [
        "data(\"football_triad\")"
      ],
      "execution_count": null,
      "outputs": []
    },
    {
      "cell_type": "markdown",
      "metadata": {},
      "source": [
        "`football_triad` is a list which contains networks of 112 football leagues as igraph objects. A directed link between\n",
        "team A and B indicates that A won a match against B. Note that there can also be an edge from B to A,\n",
        "since most leagues play a double round robin. For the sake of simplicity, all draws were deleted so that\n",
        "there could also be null ties between two teams if both games ended in a draw.\n",
        "\n",
        "Below, we calculate the triad census for all network at once using `lapply()`.\n",
        "The function returns the triad census for each network as a list, which we turn into a matrix\n",
        "in the second step. Afterwards, we manually add the row and column names of the matrix."
      ]
    },
    {
      "cell_type": "code",
      "metadata": {},
      "source": [
        "footy_census <- lapply(football_triad, triad_census)\n",
        "footy_census <- matrix(unlist(footy_census), ncol = 16, byrow = T)\n",
        "rownames(footy_census) <- sapply(football_triad, function(x) x$name)\n",
        "colnames(footy_census) <- c(\n",
        "    \"003\", \"012\", \"102\", \"021D\", \"021U\", \"021C\", \"111D\", \"111U\",\n",
        "    \"030T\", \"030C\", \"201\", \"120D\", \"120U\", \"120C\", \"210\", \"300\"\n",
        ")\n",
        "\n",
        "# normalize to make proportions comparable across leagues\n",
        "footy_census_norm <- footy_census / rowSums(footy_census)\n",
        "\n",
        "# check the Top 5 leagues\n",
        "idx <- which(rownames(footy_census) %in% c(\n",
        "    \"england\", \"spain\", \"germany\",\n",
        "    \"italy\", \"france\"\n",
        "))\n",
        "footy_census[idx, ]"
      ],
      "execution_count": null,
      "outputs": []
    },
    {
      "cell_type": "markdown",
      "metadata": {},
      "source": [
        "Notice how the transitive triad (030T) has the largest count in the top leagues, hinting toward the childhood wisdom:\n",
        "\"If A wins against B and B wins against C, then A must win against C\".\n",
        "\n",
        "In empirical studies, we are not necessarily only interested in transitive triads, but rather how the triad census profiles compare across networks. We follow [Kathrine Faust's](https://doi.org/10.1111%2Fj.1467-9531.2007.00179.x) suggestion and do a singular value decomposition (SVD) on the normalized triad census matrix."
      ]
    },
    {
      "cell_type": "code",
      "metadata": {},
      "source": [
        "footy_svd <- svd(footy_census_norm)"
      ],
      "execution_count": null,
      "outputs": []
    },
    {
      "cell_type": "markdown",
      "metadata": {},
      "source": [
        "SVDs are used to reduce the dimensionality of the data, but retaining most of the information. In our case, the \n",
        "data is 16 dimensional, which is impossible to visualize to compare the networks. With an SVD, we can reduce it to two dimensions and get a better visual overview."
      ]
    },
    {
      "cell_type": "code",
      "metadata": {},
      "source": [
        "data.frame(\n",
        "    u1 = footy_svd$d[1] * footy_svd$u[, 1],\n",
        "    u2 = footy_svd$d[2] * footy_svd$u[, 2],\n",
        "    league = rownames(footy_census)\n",
        ") |>\n",
        "    ggplot(aes(x = u1, y = u2)) +\n",
        "    geom_point() +\n",
        "    ggrepel::geom_text_repel(aes(label = league)) +\n",
        "    theme_minimal() +\n",
        "    theme(axis.title = element_text(size = 16)) +\n",
        "    labs(\n",
        "        x = \"First singular vector, multipled by singular value\",\n",
        "        y = \"Second singular vector, multipled by singular value\"\n",
        "    )"
      ],
      "execution_count": null,
      "outputs": []
    },
    {
      "cell_type": "markdown",
      "metadata": {},
      "source": [
        "How to interpret the dimensions? To investigate this question, we take a closer look at the first two dimensions and compare it to some network descriptives. For the sake of brevity, we here only look at the density and proportion of 030T triads. In\n",
        "general, any node/dyad/triad level statistic could be used."
      ]
    },
    {
      "cell_type": "code",
      "metadata": {},
      "source": [
        "data.frame(\n",
        "    y = footy_svd$d[1] * footy_svd$u[, 1],\n",
        "    x = sapply(football_triad, graph.density)\n",
        ") |>\n",
        "    ggplot(aes(x, y)) +\n",
        "    geom_point() +\n",
        "    theme_minimal() +\n",
        "    theme(axis.title = element_text(size = 16)) +\n",
        "    labs(x = \"density\", y = \"First singular vector, multipled by singular value\")"
      ],
      "execution_count": null,
      "outputs": []
    },
    {
      "cell_type": "markdown",
      "metadata": {},
      "source": [
        "Density doesn't really seem to be related to the first dimension in this case (in many cases it is!). Might be worthwhile to\n",
        "explore this further"
      ]
    },
    {
      "cell_type": "code",
      "metadata": {},
      "source": [
        "data.frame(\n",
        "    y = footy_svd$d[2] * footy_svd$u[, 2],\n",
        "    x = footy_census_norm[, 9]\n",
        ") |>\n",
        "    ggplot(aes(x, y)) +\n",
        "    geom_point() +\n",
        "    theme_minimal() +\n",
        "    theme(axis.title = element_text(size = 16)) +\n",
        "    labs(x = \"fraction of 030T\", y = \"Second singular vector, multipled by singular value\")"
      ],
      "execution_count": null,
      "outputs": []
    },
    {
      "cell_type": "markdown",
      "metadata": {},
      "source": [
        "For the second dimension, we get a clearer association. It seems that the fraction of transitive triads \n",
        "is a good indicator for structural differences among leagues.\n",
        "\n",
        "More details can be found in the paper by Kathrine Faust.\n",
        "\n",
        "---\n",
        "\n",
        "# Centrality\n",
        "\n",
        "In a nutshell, a measure of centrality is an index that assigns a numeric values to\n",
        "the nodes of the network. The higher the value, the more central the node. \"Being central\" \n",
        "is a very ambiguous term and it is thus no surprise that there exists a large variety of \n",
        "indices that assess centrality with very different structural properties of the network.\n",
        "\n",
        "Given the abundance of measures, we will also look at dedicated centrality packages that implement indices\n",
        "which are not available in `igraph`.\n",
        "\n",
        "`igraph` contains the following 10 indices:\n",
        "\n",
        "- degree (`degree()`)\n",
        "- weighted degree (`graph.strength()`)\n",
        "- betweenness (`betweenness()`)\n",
        "- closeness (`closeness()`)\n",
        "- eigenvector (`eigen_centrality()`)\n",
        "- alpha centrality (`alpha_centrality()`)\n",
        "- power centrality (`power_centrality()`)\n",
        "- PageRank (`page_rank()`)\n",
        "- eccentricity (`eccentricity()`)\n",
        "- hubs and authorities (`authority_score()` and `hub_score()`)\n",
        "- subgraph centrality (`subgraph_centrality()`)\n",
        "\n",
        "To illustrate some of the indices, we use the \"dbces11\" graph which is part of the `netrankr` package."
      ]
    },
    {
      "cell_type": "code",
      "metadata": {},
      "source": [
        "data(\"dbces11\")"
      ],
      "execution_count": null,
      "outputs": []
    },
    {
      "cell_type": "code",
      "metadata": {},
      "source": [
        "xy <- graphlayouts::layout_with_stress(dbces11)\n",
        "ggraph(dbces11, \"manual\", x = xy[, 1], y = xy[, 2]) +\n",
        "    geom_edge_link0() +\n",
        "    geom_node_point(shape = 21, size = 10, fill = \"grey66\") +\n",
        "    geom_node_text(aes(label = name)) +\n",
        "    theme_void() +\n",
        "    coord_equal(clip = \"off\")"
      ],
      "execution_count": null,
      "outputs": []
    },
    {
      "cell_type": "markdown",
      "metadata": {},
      "source": [
        "**degree** simply counts the number of neighbors a node has."
      ]
    },
    {
      "cell_type": "code",
      "metadata": {},
      "source": [
        "degree(dbces11)"
      ],
      "execution_count": null,
      "outputs": []
    },
    {
      "cell_type": "code",
      "metadata": {},
      "source": [
        "id <- which.max(degree(dbces11))\n",
        "E(dbces11)$deg <- \"no\"\n",
        "E(dbces11)$deg[incident(dbces11, 11)] <- \"yes\"\n",
        "ggraph(dbces11, \"manual\", x = xy[, 1], y = xy[, 2]) +\n",
        "    geom_edge_link(aes(col = deg, width = deg), show.legend = FALSE) +\n",
        "    geom_node_point(shape = 21, size = 10, fill = \"grey66\") +\n",
        "    geom_node_text(aes(label = name)) +\n",
        "    scale_edge_color_manual(values = c(\"grey66\", \"firebrick3\")) +\n",
        "    scale_edge_width_manual(values = c(0.5, 1.5)) +\n",
        "    theme_void() +\n",
        "    coord_equal(clip = \"off\")"
      ],
      "execution_count": null,
      "outputs": []
    },
    {
      "cell_type": "markdown",
      "metadata": {},
      "source": [
        "**closeness** computes the shortest path distances among nodes. The most central node has the\n",
        "minimum distance to all other nodes (Since high scores are associated with central nodes, the distances are inverted)."
      ]
    },
    {
      "cell_type": "code",
      "metadata": {},
      "source": [
        "closeness(dbces11)"
      ],
      "execution_count": null,
      "outputs": []
    },
    {
      "cell_type": "markdown",
      "metadata": {},
      "source": [
        "The animation below gives an intuition on the calculation for one node.\n",
        "![](closeness.gif)\n",
        "\n",
        "**betweeness** is the number of shortest paths that pass through a node (divided by the total number of shortest paths)  "
      ]
    },
    {
      "cell_type": "code",
      "metadata": {},
      "source": [
        "betweenness(dbces11)"
      ],
      "execution_count": null,
      "outputs": []
    },
    {
      "cell_type": "markdown",
      "metadata": {},
      "source": [
        "To get an intuition what it means to have a high betweenness, check the network below."
      ]
    },
    {
      "cell_type": "code",
      "metadata": {},
      "source": [
        "Kn1 <- graph.full(5)\n",
        "Kn2 <- graph.full(5)\n",
        "\n",
        "V(Kn1)$name <- LETTERS[1:5]\n",
        "V(Kn2)$name <- LETTERS[7:11]\n",
        "\n",
        "B <- Kn1 %u% Kn2\n",
        "B <- add.vertices(B, 1, attr = list(name = LETTERS[6]))\n",
        "B <- add.edges(B, c(5, 11, 6, 11))\n",
        "\n",
        "ggraph(B, \"stress\") +\n",
        "    geom_edge_link0(edge_color = \"grey66\") +\n",
        "    geom_node_point(shape = 21, size = 8, fill = \"grey25\") +\n",
        "    geom_node_point(shape = 21, size = 8, aes(filter = name == \"F\"), fill = \"firebrick3\") +\n",
        "    theme_void()"
      ],
      "execution_count": null,
      "outputs": []
    },
    {
      "cell_type": "markdown",
      "metadata": {},
      "source": [
        "Any shortest path from the right will pass through the red node and vice versa. The \n",
        "red note is thus a sort of \"gatekeeper\" for any information that is passed from left to right.\n",
        "\n",
        "\n",
        "**eigenvector centrality** extends the idea of degree by assuming that a node is central if it is connected to other central nodes."
      ]
    },
    {
      "cell_type": "code",
      "metadata": {},
      "source": [
        "eigen_centrality(dbces11)$vector"
      ],
      "execution_count": null,
      "outputs": []
    },
    {
      "cell_type": "markdown",
      "metadata": {},
      "source": [
        "**subgraph centrality** is a bit more abstract but what it does is summing up all closed walks weighting them by the \n",
        "inverse factorial of its length."
      ]
    },
    {
      "cell_type": "code",
      "metadata": {},
      "source": [
        "subgraph_centrality(dbces11)"
      ],
      "execution_count": null,
      "outputs": []
    },
    {
      "cell_type": "markdown",
      "metadata": {},
      "source": [
        "The remaining indices are mostly designed for directed networks, **page rank** being the prime example. Note, though that\n",
        "the mentioned indices can also be applied to directed networks. \n",
        "\n",
        "If we highlight the most central node for the calculated indices, we get the following. "
      ]
    },
    {
      "cell_type": "code",
      "metadata": {},
      "source": [
        "V(dbces11)$cent <- NA\n",
        "V(dbces11)$cent[which.max(degree(dbces11))] <- \"DC\"\n",
        "V(dbces11)$cent[which.max(betweenness(dbces11))] <- \"BC\"\n",
        "V(dbces11)$cent[which.max(closeness(dbces11))] <- \"CC\"\n",
        "V(dbces11)$cent[which.max(eigen_centrality(dbces11)$vector)] <- \"EC\"\n",
        "V(dbces11)$cent[which.max(subgraph_centrality(dbces11))] <- \"SC\"\n",
        "\n",
        "ggraph(dbces11, \"manual\", x = xy[, 1], y = xy[, 2]) +\n",
        "    geom_edge_link0() +\n",
        "    geom_node_point(shape = 21, size = 10, aes(fill = cent), show.legend = FALSE) +\n",
        "    geom_node_text(aes(filter = !is.na(cent), label = cent)) +\n",
        "    theme_void() +\n",
        "    coord_equal(clip = \"off\")"
      ],
      "execution_count": null,
      "outputs": []
    },
    {
      "cell_type": "markdown",
      "metadata": {},
      "source": [
        "So each index picks a different node as most central. While this is just a toy example, it highlights\n",
        "how influential the choice of indices can be in empirical settings.\n",
        "\n",
        "10 is already quite a lot of indices, but there exist far more in the literature. Some of those are\n",
        "implemented in other packages.\n",
        "\n",
        "The `sna` package implements roughly the same indices as `igraph` but adds:\n",
        "\n",
        "- flow betweenness (`flowbet()`)\n",
        "- load centrality (`loadcent()`)\n",
        "- Gil-Schmidt Power Index (`gilschmidt()`)\n",
        "- information centrality (`infocent()`)\n",
        "- stress centrality (`stresscent()`)\n",
        "\n",
        "There are also some dedicated centrality packages, such as `centiserve`, `CINNA`, `influenceR` and `keyplayer`.\n",
        "The biggest in terms of implemented indices is currently `centiserve` with a total of 33 indices."
      ]
    },
    {
      "cell_type": "code",
      "metadata": {},
      "source": [
        "library(centiserve)\n",
        "as.character(lsf.str(\"package:centiserve\"))"
      ],
      "execution_count": null,
      "outputs": []
    },
    {
      "cell_type": "markdown",
      "metadata": {},
      "source": [
        "The package is maintained by the team behind [centiserver](http://www.centiserver.org/),\n",
        "the \"comprehensive centrality resource and server for centralities calculation\".\n",
        "The website collects indices found in the literature. Currently (February 2022), it lists 403 different indices.\n",
        "That's...a lot.\n",
        "\n",
        "The description of `CINNA` says\n",
        "\"Functions for computing, comparing and demonstrating top informative centrality measures within a network.\"\n",
        "Most of the indices in the package are imported from other package, such as `centiserve`.\n",
        "In addition, there are:\n",
        "\n",
        "- Dangalchev closeness (`dangalchev_closeness_centrality()`)\n",
        "- group centrality (`group_centrality()`)\n",
        "- harmonic closeness (`harmonic_centrality()`)\n",
        "- local bridging centrality (`local_bridging_centrality()`)\n",
        "\n",
        "The function `calculate_centralities()` can be used to calculate all applicable indices\n",
        "to a network. The primary purpose of the package is to facilitate the choice of indices\n",
        "by visual and statistical tools. If you are interested in the details, see this [tutorial](https://www.datacamp.com/community/tutorials/centrality-network-analysis-R)\n",
        "and this [vignette](https://cran.r-project.org/web/packages/CINNA/vignettes/CINNA.html).\n",
        "\n",
        "`influenceR` and `keyplayer` are comparably small packages which implement only a small\n",
        "number of indices.\n",
        "\n",
        "The choice of indices can be overwhelming and little guidelines exist on when to choose what.\n",
        "The worst thing to do in any case is to apply a handful of indices and pick the result that suits your\n",
        "interpretation best. In best case, you have substantive arguments to apply an index and the result \n",
        "does match the hypothesis (or not).\n",
        "\n",
        "## Use case: Florentine Families\n",
        "\n",
        "A classic example application of centrality indices is the \"Florentine Families\" dataset, which is included in the `networkdata` package."
      ]
    },
    {
      "cell_type": "code",
      "metadata": {},
      "source": [
        "data(\"flo_marriage\")"
      ],
      "execution_count": null,
      "outputs": []
    },
    {
      "cell_type": "code",
      "metadata": {},
      "source": [
        "ggraph(flo_marriage, \"stress\") +\n",
        "    geom_edge_link0(edge_color = \"grey66\") +\n",
        "    geom_node_point(shape = 21, aes(size = wealth), fill = \"grey66\", show.legend = FALSE) +\n",
        "    geom_node_text(aes(size = wealth, label = name), show.legend = FALSE) +\n",
        "    theme_void()"
      ],
      "execution_count": null,
      "outputs": []
    },
    {
      "cell_type": "markdown",
      "metadata": {},
      "source": [
        "Th network shows marriage ties among Renaissance Families in Florence. Marriages at that time were\n",
        "strategic to improve the standing of families in society. The size of the names is proportional to the \n",
        "wealth of the families. Although the Strozzi were the wealthiest family, it was ultimately the Medici\n",
        "who became the most powerful family. This is in part due to their central position within this marriage network.\n",
        "\n",
        "The table bellow shows the ranking for the four most commonly used centrality indices (1=top rank)."
      ]
    },
    {
      "cell_type": "code",
      "metadata": {},
      "source": [
        "data.frame(\n",
        "    name = V(flo_marriage)$name,\n",
        "    degree = rank(-degree(flo_marriage)),\n",
        "    betweenness = rank(-betweenness(flo_marriage)),\n",
        "    closeness = rank(-closeness(flo_marriage)),\n",
        "    eigen = rank(-eigen_centrality(flo_marriage)$vector)\n",
        ") |>\n",
        "    knitr::kable(row.names = FALSE)"
      ],
      "execution_count": null,
      "outputs": []
    },
    {
      "cell_type": "markdown",
      "metadata": {},
      "source": [
        "No matter what structural feature we consider to be important, the Medici always have the most advantageous position.\n",
        "\n",
        "## Additional Material\n",
        "\n",
        "I have written a series of blog post about the concept of network centrality, which introduces\n",
        "some novel tools to assess centrality. These also discuss empirical applications of indices in greater detail. ([1](http://blog.schochastics.net/post/network-centrality-in-r-introduction/),\n",
        " [2](http://blog.schochastics.net/post/network-centrality-in-r-neighborhood-inclusion/),\n",
        " [3](http://blog.schochastics.net/post/network-centrality-in-r-new-ways-of-measuring-centrality/))\n",
        "\n",
        "The blog posts rely on the `netrankr` package ([link](http://netrankr.schochastics.net/)), which also \n",
        "comes with 9 vignettes that explain the functionality in great detail. Note that the package also\n",
        "implements around 30 indices, but the index based approach is not its main purpose.\n",
        "\n",
        "\n",
        "---\n",
        "\n",
        "# Cliques and Clustering\n",
        "\n",
        "A *clique* in a network is a set of nodes that form a complete subnetwork within a network (called a complete **subgraph**). A **maximal clique** is a clique that cannot be extended to a bigger clique by addding more nodes to it. "
      ]
    },
    {
      "cell_type": "code",
      "metadata": {},
      "source": [
        "data(\"clique_graph\")"
      ],
      "execution_count": null,
      "outputs": []
    },
    {
      "cell_type": "markdown",
      "metadata": {},
      "source": [
        "All maximal cliques can be calculated with `max_cliques()` (only feasible for fairly small networks). The min parameter can be used to set a minimum size. Here, we want to ignore all cliques of size $2$."
      ]
    },
    {
      "cell_type": "code",
      "metadata": {},
      "source": [
        "# only return cliques with three or more nodes\n",
        "cl <- max_cliques(clique_graph, min = 3)\n",
        "cl"
      ],
      "execution_count": null,
      "outputs": []
    },
    {
      "cell_type": "markdown",
      "metadata": {},
      "source": [
        "The figure below shows the network and the found maximal cliques."
      ]
    },
    {
      "cell_type": "code",
      "metadata": {},
      "source": [
        "xy <- graphlayouts::layout_with_stress(clique_graph)\n",
        "\n",
        "cl_df <- as.data.frame(do.call(\n",
        "    \"rbind\",\n",
        "    lapply(seq_along(cl), function(x) {\n",
        "        cbind(xy[cl[[x]], ], x)\n",
        "    })\n",
        "))\n",
        "\n",
        "ggraph(clique_graph, \"stress\") +\n",
        "    geom_edge_link0(edge_color = \"grey66\") +\n",
        "    geom_node_point(shape = 21, size = 8, fill = \"grey25\") +\n",
        "    ggforce::geom_mark_hull(data = cl_df, aes(V1, V2, fill = as.factor(x), group = x), show.legend = FALSE) +\n",
        "    scale_fill_manual(values = c(\n",
        "        \"#E69F00\", \"#000000\", \"#56B4E9\", \"#009E73\", \"#F0E442\", \"#0072B2\",\n",
        "        \"#D55E00\", \"#CC79A7\", \"#666666\"\n",
        "    )) +\n",
        "    theme_void()"
      ],
      "execution_count": null,
      "outputs": []
    },
    {
      "cell_type": "markdown",
      "metadata": {},
      "source": [
        "Related to cliques is the **k-core decomposition** of a network. A k-core is a subgraph in which every node has at least k neighbors within the subgraph. A k-core is thus a relaxed version of a clique.  \n",
        "The function `coreness()` can be used to calculate the k-core membership for each node."
      ]
    },
    {
      "cell_type": "code",
      "metadata": {},
      "source": [
        "kcore <- coreness(clique_graph)\n",
        "kcore"
      ],
      "execution_count": null,
      "outputs": []
    },
    {
      "cell_type": "code",
      "metadata": {},
      "source": [
        "cl_df <- as.data.frame(do.call(\n",
        "    \"rbind\",\n",
        "    lapply(sort(unique(kcore))[c(2, 3, 4)], function(x) {\n",
        "        cbind(xy[kcore >= x, ], x)\n",
        "    })\n",
        "))\n",
        "\n",
        "ggraph(clique_graph, \"stress\") +\n",
        "    geom_edge_link0(edge_color = \"grey66\") +\n",
        "    geom_node_point(shape = 21, size = 8, fill = \"grey25\") +\n",
        "    ggforce::geom_mark_hull(data = cl_df, aes(V1, V2, fill = as.factor(x), group = x), show.legend = FALSE) +\n",
        "    scale_fill_manual(values = c(\"red\", \"blue\", \"green\")) +\n",
        "    theme_void()"
      ],
      "execution_count": null,
      "outputs": []
    },
    {
      "cell_type": "markdown",
      "metadata": {},
      "source": [
        "Cliques are the prototypical and most strict definition of a cohesive subgroup of a graph. In empirical networks, however, we rarely encounter situations where we can partition the whole network into a set of \n",
        "cliques. A relaxed version of this problem is that of clustering, also referred to as **comunity detection**. \n",
        "A cluster is loosely defined as a group of nodes which are internally densely and externally sparsely connected. The network below shows an example for a network with a visible and intuitive cluster structure."
      ]
    },
    {
      "cell_type": "code",
      "metadata": {},
      "source": [
        "n1 <- 5\n",
        "n2 <- 20\n",
        "set.seed(1234)\n",
        "g <- sample_islands(n1, n2, 0.9, 5)\n",
        "g <- simplify(g)\n",
        "V(g)$grp <- rep(LETTERS[1:n1], each = n2)\n",
        "ggraph(g, \"stress\") +\n",
        "    geom_edge_link0(edge_width = 0.2, edge_color = \"grey66\") +\n",
        "    geom_node_point(shape = 21, size = 5, aes(fill = grp), show.legend = FALSE) +\n",
        "    theme_void()"
      ],
      "execution_count": null,
      "outputs": []
    },
    {
      "cell_type": "markdown",
      "metadata": {},
      "source": [
        "In contrast, the network below does not really seem to have any well defined cluster structure."
      ]
    },
    {
      "cell_type": "code",
      "metadata": {},
      "source": [
        "n1 <- 5\n",
        "n2 <- 20\n",
        "\n",
        "set.seed(1234)\n",
        "g <- sample_islands(n1, n2, 0.25, 15)\n",
        "g <- simplify(g)\n",
        "V(g)$grp <- rep(LETTERS[1:n1], each = n2)\n",
        "ggraph(g, \"stress\") +\n",
        "    geom_edge_link0(edge_width = 0.2, edge_color = \"grey66\") +\n",
        "    geom_node_point(shape = 21, size = 5, fill = \"grey66\", show.legend = FALSE) +\n",
        "    theme_void()"
      ],
      "execution_count": null,
      "outputs": []
    },
    {
      "cell_type": "markdown",
      "metadata": {},
      "source": [
        "The following algorithms for graph clustering are implemented in `igraph`."
      ]
    },
    {
      "cell_type": "code",
      "metadata": {},
      "source": [
        "algs <- as.character(lsf.str(\"package:igraph\"))\n",
        "algs[stringr::str_detect(algs, \"cluster_\")]"
      ],
      "execution_count": null,
      "outputs": []
    },
    {
      "cell_type": "markdown",
      "metadata": {},
      "source": [
        "Most of these algorithms are based on \"modularity maximization\". Modularity is defined as the fraction of edges that fall within given groups minus the expected fraction if edges were distributed at random.\n",
        "\n",
        "The workflow of a cluster analysis is always the same, independent from the chosen method. We illustrate the workflow using the infamous karate club network."
      ]
    },
    {
      "cell_type": "code",
      "metadata": {},
      "source": [
        "data(\"karate\")"
      ],
      "execution_count": null,
      "outputs": []
    },
    {
      "cell_type": "code",
      "metadata": {},
      "source": [
        "ggraph(karate, \"stress\") +\n",
        "    geom_edge_link0(edge_color = \"grey66\") +\n",
        "    geom_node_point(shape = 21, size = 5, fill = \"grey66\") +\n",
        "    theme_void() +\n",
        "    coord_equal()"
      ],
      "execution_count": null,
      "outputs": []
    },
    {
      "cell_type": "code",
      "metadata": {},
      "source": [
        "# compute clustering\n",
        "clu <- cluster_louvain(karate)\n",
        "\n",
        "# cluster membership vector\n",
        "mem <- membership(clu)\n",
        "mem\n",
        "\n",
        "# clusters as list\n",
        "com <- communities(clu)\n",
        "com"
      ],
      "execution_count": null,
      "outputs": []
    },
    {
      "cell_type": "markdown",
      "metadata": {},
      "source": [
        "To compare the quality of clusterings, we can compute the modularity score for each output."
      ]
    },
    {
      "cell_type": "code",
      "metadata": {},
      "source": [
        "imc <- cluster_infomap(karate)\n",
        "lec <- cluster_leading_eigen(karate)\n",
        "loc <- cluster_louvain(karate)\n",
        "sgc <- cluster_spinglass(karate)\n",
        "wtc <- cluster_walktrap(karate)\n",
        "scores <- c(\n",
        "    infomap = modularity(karate, membership(imc)),\n",
        "    eigen = modularity(karate, membership(lec)),\n",
        "    louvain = modularity(karate, membership(loc)),\n",
        "    spinglass = modularity(karate, membership(sgc)),\n",
        "    walk = modularity(karate, membership(wtc))\n",
        ")\n",
        "scores"
      ],
      "execution_count": null,
      "outputs": []
    },
    {
      "cell_type": "markdown",
      "metadata": {},
      "source": [
        "For the karate network, `cluster_spinglass()` produces the highest modularity score.\n",
        "The corresponding clustering is shown below."
      ]
    },
    {
      "cell_type": "code",
      "metadata": {},
      "source": [
        "V(karate)$clu <- membership(sgc)\n",
        "ggraph(karate, \"stress\") +\n",
        "    geom_edge_link0(edge_color = \"grey66\") +\n",
        "    geom_node_point(shape = 21, size = 5, aes(fill = as.factor(clu)), show.legend = FALSE) +\n",
        "    theme_void() +\n",
        "    coord_equal()"
      ],
      "execution_count": null,
      "outputs": []
    },
    {
      "cell_type": "markdown",
      "metadata": {},
      "source": [
        "Modularity maximization is still widely considered as the state-of-the-art clustering method\n",
        "for networks. There are, however, some technical shortcomings that one should be aware of.\n",
        "One of those is the so called \"resolution limit\". When modularity is being maximized, it can happen\n",
        "that smaller clusters are merged together to form bigger clusters. The prime example is the graph that\n",
        "consists of cliques connected in a ring."
      ]
    },
    {
      "cell_type": "code",
      "metadata": {},
      "source": [
        "n1 <- 5\n",
        "n2 <- 50\n",
        "A <- matrix(1, n1, n1)\n",
        "lst <- vector(\"list\", n2)\n",
        "lst <- lapply(lst, function(x) A)\n",
        "AA <- Matrix::bdiag(lst)\n",
        "for (i in 1:(n2 - 1)) {\n",
        "    AA[i * n1, i * n1 + 1] <- AA[i * n1 + 1, i * n1] <- 1\n",
        "}\n",
        "AA[1, n1 * n2] <- AA[n1 * n2, 1] <- 1\n",
        "K50 <- graph_from_adjacency_matrix(AA, \"undirected\", diag = FALSE)"
      ],
      "execution_count": null,
      "outputs": []
    },
    {
      "cell_type": "markdown",
      "metadata": {},
      "source": [
        "The figure below shows such a graph, consisting of 50 cliques of size 5. "
      ]
    },
    {
      "cell_type": "code",
      "metadata": {},
      "source": [
        "ggraph(K50, \"stress\") +\n",
        "    geom_edge_link0(edge_width = 0.6, edge_color = \"grey66\") +\n",
        "    geom_node_point(shape = 21, fill = \"grey66\", size = 2, show.legend = FALSE) +\n",
        "    theme_void() +\n",
        "    coord_fixed()"
      ],
      "execution_count": null,
      "outputs": []
    },
    {
      "cell_type": "markdown",
      "metadata": {},
      "source": [
        "Intuitively, any clustering method should return a cluster for each clique."
      ]
    },
    {
      "cell_type": "code",
      "metadata": {},
      "source": [
        "clu_louvain <- cluster_louvain(K50)\n",
        "table(membership(clu_louvain))"
      ],
      "execution_count": null,
      "outputs": []
    },
    {
      "cell_type": "markdown",
      "metadata": {},
      "source": [
        "A clustering algorithm that fixes this issue is the leiden algorithm."
      ]
    },
    {
      "cell_type": "code",
      "metadata": {},
      "source": [
        "clu_leiden <- cluster_leiden(K50, objective_function = \"CPM\", resolution_parameter = 0.5)\n",
        "table(membership(clu_leiden))"
      ],
      "execution_count": null,
      "outputs": []
    },
    {
      "cell_type": "markdown",
      "metadata": {},
      "source": [
        "The figure below shows the clusters computed with the louvain method in grey and the leiden method in red."
      ]
    },
    {
      "cell_type": "code",
      "metadata": {},
      "source": [
        "V(K50)$louvain <- membership(clu_louvain)\n",
        "V(K50)$leiden <- membership(clu_leiden)\n",
        "ggraph(K50, \"stress\") +\n",
        "    geom_edge_link0(edge_width = 0.6, edge_color = \"grey66\") +\n",
        "    geom_node_point(shape = 21, fill = \"grey66\", size = 1.5, show.legend = FALSE) +\n",
        "    ggforce::geom_mark_ellipse(aes(x, y, group = louvain), expand = unit(4.5, \"pt\"), fill = \"black\", alpha = 0.25) +\n",
        "    ggforce::geom_mark_circle(aes(x, y, group = leiden), expand = unit(4.5, \"pt\"), col = \"firebrick3\", size = 1) +\n",
        "    theme_void() +\n",
        "    coord_fixed()"
      ],
      "execution_count": null,
      "outputs": []
    },
    {
      "cell_type": "markdown",
      "metadata": {},
      "source": [
        "I'll spare the technical details of the leiden method. If you are interested, check out the [original paper](https://www.nature.com/articles/s41598-019-41695-z). \n",
        "\n",
        "---\n",
        "\n",
        "# Blockmodeling\n",
        "\n",
        "Blockmodeling is similar to \n",
        "\n",
        "(Stochastic) Blockmodels, for instance,\n",
        "can also be used to find community structures. Several packages exist for this, such as `randnet` or `blockmodels`.\n",
        "\n",
        "---\n",
        "\n",
        "# Core-Periphery structures\n",
        "\n",
        "---\n",
        "\n",
        "# I want to learn about ...\n",
        "\n",
        "##  two mode networks\n",
        "\n",
        "A two mode network is a network that consists of two disjoint sets of nodes (like people and events). \n",
        "Ties connect the two sets, e. g. participation of people in events. There exists a great variety\n",
        "of two mode networks. The most often encountered ones are \n",
        "\n",
        "- Affiliation networks (Membership in institutions)\n",
        "- Voting/Sponsorship networks (politicians and bills)\n",
        "- Citation network (authors and papers)\n",
        "- Co-Authorship networks (authors and papers)\n",
        "\n",
        "Below we will discuss some methods via the famous \"southern women\" dataset consisting of\n",
        "18 women who attended a series of 14 events."
      ]
    },
    {
      "cell_type": "code",
      "metadata": {},
      "source": [
        "data(\"southern_women\")"
      ],
      "execution_count": null,
      "outputs": []
    },
    {
      "cell_type": "code",
      "metadata": {},
      "source": [
        "ggraph(southern_women, \"stress\") +\n",
        "    geom_edge_link(edge_color = \"grey66\") +\n",
        "    geom_node_point(aes(fill = type, shape = type), size = 8, show.legend = FALSE) +\n",
        "    geom_node_text(aes(label = name)) +\n",
        "    scale_shape_manual(values = c(21, 22)) +\n",
        "    theme_void()"
      ],
      "execution_count": null,
      "outputs": []
    },
    {
      "cell_type": "markdown",
      "metadata": {},
      "source": [
        "The adjacency matrix of a two mode network is also referred to as an incidence matrix and can be obtained via\n",
        "`as_incidence_matrix()`"
      ]
    },
    {
      "cell_type": "code",
      "metadata": {},
      "source": [
        "A <- as_incidence_matrix(southern_women)\n",
        "A"
      ],
      "execution_count": null,
      "outputs": []
    },
    {
      "cell_type": "markdown",
      "metadata": {},
      "source": [
        "The `tnet` ([link](https://CRAN.R-project.org/package=tnet)) and `bipartite` ([link](https://CRAN.R-project.org/package=bipartite)) offer some methods to analyse two mode networks directly, by \n",
        "adapting tools for standard (one-mode) networks (like the ones described above).\n",
        "\n",
        "Besides analyzing a two-mode network as-is, there is also the possibility to project it to one mode. \n",
        "Mathematically, this is done by calculating $AA^T$ or $A^TA$, depending which mode we project on.\n",
        "As an example, consider the southern women dataset again."
      ]
    },
    {
      "cell_type": "code",
      "metadata": {},
      "source": [
        "B <- A %*% t(A)\n",
        "B"
      ],
      "execution_count": null,
      "outputs": []
    },
    {
      "cell_type": "markdown",
      "metadata": {},
      "source": [
        "This matrix can now be interpreted as a weighted network among the 18 women. Each entry corresponds to the number of times\n",
        "two women went to the same event."
      ]
    },
    {
      "cell_type": "code",
      "metadata": {},
      "source": [
        "proj <- graph_from_adjacency_matrix(B, weighted = TRUE, diag = FALSE, mode = \"undirected\")\n",
        "\n",
        "ggraph(proj, \"stress\") +\n",
        "    geom_edge_link(aes(edge_width = weight), edge_color = \"grey66\", show.legend = FALSE) +\n",
        "    geom_node_point(shape = 21, fill = \"grey66\", size = 8, show.legend = FALSE) +\n",
        "    geom_node_text(aes(label = name)) +\n",
        "    scale_edge_width(range = c(1, 4)) +\n",
        "    theme_void() +\n",
        "    coord_cartesian(clip = \"off\")"
      ],
      "execution_count": null,
      "outputs": []
    },
    {
      "cell_type": "markdown",
      "metadata": {},
      "source": [
        "As you can see, the network has become very dense. A very common step is now to binarize the\n",
        "network. In doing so, we basically turn the network into a simple undirected one-mode network. This\n",
        "makes all methods we described in the first few sections applicable to the network (at least in theory).\n",
        "The simplest way of binarizing a weighted projection is to define a global threshold and remove a tie if\n",
        "its weight is below the global threshold. This is simple but come with many undesirable structural problems.\n",
        "More sophisticated tools work with statistical models in the background which determine if an edge weight\n",
        "differs enough from the expected value. If so, the edge is kept in the binary \"backbone\" of the network. \n",
        "\n",
        "All possible backbone extraction methods are implemented in the `backbone` package ([link](https://CRAN.R-project.org/package=backbone)). An introduction to the package can be\n",
        "found on [arxiv](https://arxiv.org/abs/1912.12779).\n",
        "\n",
        "##  signed networks\n",
        "\n",
        "Traditional SNA usually deals with relations among entities (e.g. people) that are positive, including “friendship”, “advice seeking”, etc. Most network analytic tools are devised under this premise, be that centrality indices, clustering tools and so forth. But of course not all occurring relations are positive. People can be friends but also foes.\n",
        "\n",
        "This gives rise to signed networks. These networks are usually composed of both, positive and negative, ties measured among a set of entities. Traditional network analytic tools are not applicable to such networks without adapting for the presents of negative ties. The `signnet` package ([link](https://CRAN.R-project.org/package=signnet)) brings together methods that have been developed to analyse signed networks. This includes\n",
        "\n",
        "- Structural balance ([tutorial](http://signnet.schochastics.net/articles/structural_balance.html))\n",
        "- Blockmodeling ([tutorial](http://signnet.schochastics.net/articles/blockmodeling.html))\n",
        "- Centrality ([tutorial](http://signnet.schochastics.net/articles/centrality.html))\n",
        "- Signed two-mode networks ([tutorial](http://signnet.schochastics.net/articles/signed_2mode.html))\n",
        "\n",
        "A dedicated tutorial for each methodology is given in the package vignettes, also linked above. Below, we\n",
        "just briefly discuss the structure of the package.\n",
        "\n",
        "The foundation of `signnet` is provided by `igraph`. All functions in the package \n",
        "assume that an igraph object is a signed network if it has an edge attribute “sign” with values 1 (positive) or -1 (negative)."
      ]
    },
    {
      "cell_type": "code",
      "metadata": {},
      "source": [
        "library(signnet)\n",
        "g <- graph.full(5, directed = FALSE, loops = FALSE)\n",
        "E(g)$sign <- 1\n",
        "g"
      ],
      "execution_count": null,
      "outputs": []
    },
    {
      "cell_type": "markdown",
      "metadata": {},
      "source": [
        "All methods should throw an error if the sign attribute is missing or contains other values than -1 and 1.\n",
        "\n",
        "Matrices associated with a signed network follow the `igraph` naming scheme. The signed adjacency matrix can be obtained with `as_adj_signed()`."
      ]
    },
    {
      "cell_type": "code",
      "metadata": {},
      "source": [
        "data(\"tribes\")\n",
        "as_adj_signed(tribes)[1:5, 1:5]"
      ],
      "execution_count": null,
      "outputs": []
    },
    {
      "cell_type": "markdown",
      "metadata": {},
      "source": [
        "The signed Laplacian matrix is obtained by `laplacian_matrix_signed()`."
      ]
    },
    {
      "cell_type": "code",
      "metadata": {},
      "source": [
        "laplacian_matrix_signed(tribes)[1:5, 1:5]"
      ],
      "execution_count": null,
      "outputs": []
    },
    {
      "cell_type": "markdown",
      "metadata": {},
      "source": [
        "A function not explicitly mentioned in the tutorials linked above is `triad_census_signed()` which calculates the\n",
        "signed triad census of a directed signed network. While the unsigned triad census has only 16 possible outcomes, there are 138 non-isomorphic signed triads, shown below.\n",
        "![](signed_triads.png)\n",
        "The naming scheme is \"xxx-yyyyyy\" where \"xxx\" corresponds to the name of the respective unsigned triad and \"yyyyyy\" is \n",
        "a string of \"0\", \"N\", \"P\", describing the type of ties present. So \"300-NNNNNN\" is a triad with all ties present and all ties are negative. \n",
        "\n",
        "The package includes two well known datasets to play with.\n",
        "\n",
        "The “tribes” dataset is a signed social network of tribes of the Gahuku–Gama alliance structure of the Eastern Central Highlands of New Guinea. The network contains sixteen tribes connected by friendship (“rova”) and enmity (“hina”).\n",
        "\n",
        "The “cowList” dataset contains a list of 52 signed networks of inter-state relations over time (1946-1999). Two countries are connected by a positive tie if they form an alliance or have a peace treaty. A negative tie exists between countries who are at war or in other kinds of conflicts. The dataset is derrived from the [correlates of war](https://correlatesofwar.org/).\n",
        "\n",
        "##  ego networks\n",
        "\n",
        "If you want to analyze ego networks, then I can only recommend this\n",
        "[book](http://www.raffaelevacca.com/egocentric-r-book/) by [Raffaele Vacca](http://www.raffaelevacca.com/).\n",
        "Raffaele has given countless workshops on ego network analysis in R and his material should provide\n",
        "you with everything you need.\n",
        "\n",
        "\n",
        "##  multilevel networks\n",
        "\n",
        "\n",
        "For analyzing multilevel networks, I recommend the `multinet` pakage ([link](https://CRAN.R-project.org/package=multinet)).\n",
        "Check out this [JSS Paper](http://multilayer.it.uu.se/jss.pdf) for a brief introduction into the package.\n",
        "\n",
        "If you just want to visualize a multilevel network, then head over to my [network visualization](../netvizr/#multilevel-networks) tutorial.\n",
        "\n",
        "\n",
        "Multigraphs are network representations in which multiple edges and edge loops (self edges) are permitted.\n",
        "In R, there are at least two relevant packages. The first is `multigraph` ([link](https://CRAN.R-project.org/package=multigraph)) which implements some visualization methods for \n",
        "multigraphs.\n",
        "\n",
        "The second is `multigraphr` ([link](https://CRAN.R-project.org/package=multigraphr)) which comes with a\n",
        "series of statistical methods to study local and global properties of such graphs and goodness of fit tests.\n",
        "The [vignette](https://cran.r-project.org/web/packages/multigraphr/vignettes/multigraphr.html) of the package is\n",
        "a brilliant starting point for using the package.\n",
        "\n",
        "For the technical details behind `multigraphr`, you can refer to:\n",
        "\n",
        ">Shafie, T. (2015). A multigraph approach to social network analysis. Journal of Social Structure, 16. ([link](https://www.exeley.com/journal_of_social_structure/doi/10.21307/joss-2019-011))\n",
        "\n",
        ">Shafie, T. (2016). Analyzing local and global properties of multigraphs. The Journal of Mathematical Sociology, 40(4), 239-264. ([link](https://www.tandfonline.com/doi/abs/10.1080/0022250X.2016.1219732?journalCode=gmas20))\n",
        "\n",
        ">Shafie, T. and Schoch, D., (2021). Multiplexity analysis of networks using multigraph representations. Statistical Methods & Applications 30 (5), 1425-1444 ([link](https://link.springer.com/article/10.1007/s10260-021-00596-0))\n",
        "\n",
        ">Shafie, T. (Under review). Goodness of fit tests for random multigraph models.\n",
        "\n",
        "##  something else\n",
        "\n",
        "Cant find what you are looking for? Ping me on [twitter](https://twitter.com/schochastics) and I see what I can do.\n",
        "\n",
        "---\n",
        "\n",
        "# Loading network data into R\n",
        "\n",
        "`igraph` can deal with many different foreign network formats with the function `read_graph`.\n",
        "(The `rgexf` package can be used to import Gephi files.)\n"
      ]
    },
    {
      "cell_type": "code",
      "metadata": {},
      "source": [
        "read_graph(file, format = c(\n",
        "    \"edgelist\", \"pajek\", \"ncol\", \"lgl\",\n",
        "    \"graphml\", \"dimacs\", \"graphdb\", \"gml\", \"dl\"\n",
        "), ...)"
      ],
      "execution_count": null,
      "outputs": []
    },
    {
      "cell_type": "markdown",
      "metadata": {},
      "source": [
        "(*I personally have encountered some issue when importing `graphml` files that were \n",
        "produced in [visone](https://visone.ethz.ch/html/about.html). Also `dl` files sometimes through an error.*)\n",
        "\n",
        "If your network data is in one of the above formats you will find it easy to import\n",
        "your network. \n",
        "\n",
        "If your data is not in a network file format, you will need one of the following functions to turn raw network data into an `igraph` object:\n",
        "`graph_from_edgelist()`, `graph_from_adjacency_matrix()`, `graph_from_adj_list()`, or\n",
        "`graph_from_data_frame()`.\n",
        "\n",
        "Before using these functions, however, you still need to get the raw data into R. The concrete procedure\n",
        "depends on the file format. If your data is stored as an excel spreadsheet, you need additional packages.\n",
        "If you are familiar with the `tidyverse`, you can use the `readxl` package. Other options are, e.g. the `xlsx` package.\n",
        "\n",
        "Most network data you'll find is in a plain text format (csv or tsv), either as an edgelist or adjacency matrix.\n",
        "To read in such data, you can use base R's `read.table()`.\n",
        "\n",
        "Make sure you check the following before trying to load a file: Does it contain a header (e.g. row/column names of an adjacency matrix)? How are values delimited (comma, whitespace or tab)? This is important to set the parameters `header`, `sep` to read the data properly.\n",
        "\n",
        "\n",
        "If you are struggling with this step, you can use the `Netreader` Rstudio add in which comes with the `snahelper` package\n",
        "\n",
        "![](Netreader1.png)\n",
        "Using the `Netreader` should comes with a learning effect (hopefully). The last tab shows the R code to produce the network with the chosen data without using the Addin.\n",
        "\n",
        "![](Netreader2.png)\n",
        "\n",
        "Since the addin is supposed to be very general, the code might look a bit awkward.\n",
        "The functions `graph_from_edgelist()` and `graph_from_adjacency_matrix()` come with a drawback. You can't add node or edge attributes automatically. \n",
        "\n",
        "In general, it is always a good idea to organize network data in two different data frames. One for the nodes (with attributes)\n",
        "and one for the edges (edgelist+attributes). This will save you a lot of pain when trying to convert the \n",
        "data into an igraph object. Especially if you want to go down the [tidy way](../tidynetanar/) later.\n",
        "\n",
        "\n",
        "\n",
        "# What is missing?\n",
        "\n",
        "I have tried to cover as many of the available packages and tools to analyze networks in R as possible \n",
        "and will include more details (and packages) over time. What I will probably never cover though are \n",
        "packages related to network dynamics, such as `ergm` or `Rsiena`. These are just not my `r emo::ji(\"tea\")`. \n",
        "For `ergm`, you can refer to this [statnet tutorial](http://statnet.org/Workshops/ergm_tutorial.html) and for \n",
        "`Rsiena` you can check out the [Rsiena webpage](https://www.stats.ox.ac.uk/~snijders/siena/siena_scripts.htm).\n"
      ]
    }
  ],
  "metadata": {
    "kernelspec": {
      "name": "ir",
      "language": "R",
      "display_name": "R 4.4.1"
    }
  },
  "nbformat": 4,
  "nbformat_minor": 4
}